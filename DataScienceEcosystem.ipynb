{
 "cells": [
  {
   "cell_type": "markdown",
   "id": "17a09729-3d6b-4248-9818-f9f20d873777",
   "metadata": {},
   "source": [
    "# Data Science Tools and Ecosystem"
   ]
  },
  {
   "cell_type": "markdown",
   "id": "01d90e24-77ae-4b66-a6ae-11062464ab57",
   "metadata": {},
   "source": [
    "#### In this notebook Data Science Tools and Ecosystem are summerized."
   ]
  },
  {
   "cell_type": "markdown",
   "id": "083fdf45-2ef6-4e9c-a241-8f089f5a3534",
   "metadata": {},
   "source": [
    "**Objectives:**\n",
    "- List popular languages for Data Science\n",
    "- List commonly used libraries\n",
    "- Create table\n",
    "- Basic arithmetic"
   ]
  },
  {
   "cell_type": "markdown",
   "id": "c90a2545-0e55-49fa-81ed-9e57a2b16e56",
   "metadata": {},
   "source": [
    "##### Some of the popular languages that Data Scientists use are\n",
    "1. Python\n",
    "2. R\n",
    "3. C\n",
    "4. C++\n",
    "5. Javascript\n",
    "6. Java"
   ]
  },
  {
   "cell_type": "markdown",
   "id": "e67b366c-9936-4e3d-8e95-eb67278e5902",
   "metadata": {},
   "source": [
    "##### Some of the commonly used libraries used by Data Scientist include:\n",
    "1. ggplot\n",
    "2. Gally\n",
    "3. ggplot2\n",
    "4. caffe\n",
    "5. caret"
   ]
  },
  {
   "cell_type": "markdown",
   "id": "8dfb8ceb-56b0-4cc5-8a2b-f08902ae7182",
   "metadata": {},
   "source": [
    "|Data Science tools|\n",
    "|----------------|\n",
    "|Jupyter Notebook|\n",
    "|RStudio|\n",
    "|Github|"
   ]
  },
  {
   "cell_type": "markdown",
   "id": "3fd00500-1034-4441-931c-6541ff36ae28",
   "metadata": {},
   "source": [
    "# Below are a few examples of evaluating arithmetic expressions in Python"
   ]
  },
  {
   "cell_type": "markdown",
   "id": "a8bf787d-c646-4306-9d1c-dc17e9836969",
   "metadata": {},
   "source": [
    "##### This a simple arithmetic expression to mutiply then add integers"
   ]
  },
  {
   "cell_type": "code",
   "execution_count": 13,
   "id": "c333ef5f-2de1-44fe-8489-237368bc311e",
   "metadata": {},
   "outputs": [
    {
     "data": {
      "text/plain": [
       "17"
      ]
     },
     "execution_count": 13,
     "metadata": {},
     "output_type": "execute_result"
    }
   ],
   "source": [
    "(3*4)+5"
   ]
  },
  {
   "cell_type": "markdown",
   "id": "79ad8d38-d9fc-400a-a0ca-5a3d05599ead",
   "metadata": {},
   "source": [
    "##### This will convert 200 minutes to hours by diving by 60"
   ]
  },
  {
   "cell_type": "code",
   "execution_count": 38,
   "id": "339b6640-8d71-440d-a41e-5bc54550fe47",
   "metadata": {},
   "outputs": [
    {
     "name": "stdout",
     "output_type": "stream",
     "text": [
      "3.3333333333333335\n"
     ]
    }
   ],
   "source": [
    "x=200/60\n",
    "print(x)"
   ]
  },
  {
   "cell_type": "markdown",
   "id": "2e26370f-a5d9-471b-8660-3fb956cc7539",
   "metadata": {},
   "source": [
    "## author\n",
    "Abbas Rahman"
   ]
  },
  {
   "cell_type": "code",
   "execution_count": null,
   "id": "5f447936-83fb-4b80-b4f8-8761d1f3ea42",
   "metadata": {},
   "outputs": [],
   "source": []
  }
 ],
 "metadata": {
  "kernelspec": {
   "display_name": "Python 3 (ipykernel)",
   "language": "python",
   "name": "python3"
  },
  "language_info": {
   "codemirror_mode": {
    "name": "ipython",
    "version": 3
   },
   "file_extension": ".py",
   "mimetype": "text/x-python",
   "name": "python",
   "nbconvert_exporter": "python",
   "pygments_lexer": "ipython3",
   "version": "3.12.4"
  }
 },
 "nbformat": 4,
 "nbformat_minor": 5
}
